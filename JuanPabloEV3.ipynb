{
  "nbformat": 4,
  "nbformat_minor": 0,
  "metadata": {
    "colab": {
      "provenance": [],
      "authorship_tag": "ABX9TyPUcN1MPDzbfNpL0/FmzB6m",
      "include_colab_link": true
    },
    "kernelspec": {
      "name": "python3",
      "display_name": "Python 3"
    },
    "language_info": {
      "name": "python"
    }
  },
  "cells": [
    {
      "cell_type": "markdown",
      "metadata": {
        "id": "view-in-github",
        "colab_type": "text"
      },
      "source": [
        "<a href=\"https://colab.research.google.com/github/JuanPablovzz19/progra_python/blob/main/JuanPabloEV3.ipynb\" target=\"_parent\"><img src=\"https://colab.research.google.com/assets/colab-badge.svg\" alt=\"Open In Colab\"/></a>"
      ]
    },
    {
      "cell_type": "code",
      "execution_count": 1,
      "metadata": {
        "colab": {
          "base_uri": "https://localhost:8080/"
        },
        "id": "e5tyKgH17ujK",
        "outputId": "c9c44616-4e69-4d0f-e672-f330f4de7c56"
      },
      "outputs": [
        {
          "output_type": "stream",
          "name": "stdout",
          "text": [
            "Objeto serializado y guardado en objeto_serializado.pickle\n",
            "Objeto deserializado desde objeto_serializado.pickle\n",
            "Objeto original: {'nombre': 'Ejemplo', 'edad': 25, 'ciudad': 'Ejemplolandia'}\n",
            "Objeto recuperado: {'nombre': 'Ejemplo', 'edad': 25, 'ciudad': 'Ejemplolandia'}\n"
          ]
        }
      ],
      "source": [
        "import pickle\n",
        "\n",
        "def serializar(objeto, nombre_archivo):\n",
        "    with open(nombre_archivo, 'wb') as archivo:\n",
        "        pickle.dump(objeto, archivo)\n",
        "    print(f'Objeto serializado y guardado en {nombre_archivo}')\n",
        "\n",
        "def deserializar(nombre_archivo):\n",
        "    with open(nombre_archivo, 'rb') as archivo:\n",
        "        objeto = pickle.load(archivo)\n",
        "    print(f'Objeto deserializado desde {nombre_archivo}')\n",
        "    return objeto\n",
        "\n",
        "\n",
        "if __name__ == \"__main__\":\n",
        "\n",
        "    objeto_original = {'nombre': 'Ejemplo', 'edad': 25, 'ciudad': 'Ejemplolandia'}\n",
        "\n",
        "\n",
        "    archivo_pickle = 'objeto_serializado.pickle'\n",
        "\n",
        "\n",
        "    serializar(objeto_original, archivo_pickle)\n",
        "\n",
        "\n",
        "    objeto_recuperado = deserializar(archivo_pickle)\n",
        "\n",
        "\n",
        "    print('Objeto original:', objeto_original)\n",
        "    print('Objeto recuperado:', objeto_recuperado)\n"
      ]
    }
  ]
}