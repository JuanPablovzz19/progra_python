{
  "nbformat": 4,
  "nbformat_minor": 0,
  "metadata": {
    "colab": {
      "provenance": [],
      "authorship_tag": "ABX9TyOUiVfT5R7PucFRgUekDmck",
      "include_colab_link": true
    },
    "kernelspec": {
      "name": "python3",
      "display_name": "Python 3"
    },
    "language_info": {
      "name": "python"
    }
  },
  "cells": [
    {
      "cell_type": "markdown",
      "metadata": {
        "id": "view-in-github",
        "colab_type": "text"
      },
      "source": [
        "<a href=\"https://colab.research.google.com/github/JuanPablovzz19/progra_python/blob/main/JuanPablo_EV2.ipynb\" target=\"_parent\"><img src=\"https://colab.research.google.com/assets/colab-badge.svg\" alt=\"Open In Colab\"/></a>"
      ]
    },
    {
      "cell_type": "code",
      "execution_count": 5,
      "metadata": {
        "colab": {
          "base_uri": "https://localhost:8080/"
        },
        "id": "PVeykbAO3Aku",
        "outputId": "1814bd3d-28f7-446e-c3ef-e6b71ea40936"
      },
      "outputs": [
        {
          "output_type": "stream",
          "name": "stdout",
          "text": [
            "Nombre: Juan\n",
            "Edad: 25\n",
            "Nombre: Juan, Edad: 30\n"
          ]
        }
      ],
      "source": [
        "class Persona:\n",
        "    def __init__(self, nombre, edad):\n",
        "        self._nombre = nombre\n",
        "        self._edad = edad\n",
        "\n",
        "\n",
        "    @property\n",
        "    def nombre(self):\n",
        "        return self._nombre\n",
        "\n",
        "\n",
        "    @property\n",
        "    def edad(self):\n",
        "        return self._edad\n",
        "\n",
        "    @edad.setter\n",
        "    def edad(self, nueva_edad):\n",
        "        if nueva_edad > 0:\n",
        "            self._edad = nueva_edad\n",
        "        else:\n",
        "            print(\"La edad debe ser un número positivo.\")\n",
        "\n",
        "\n",
        "    def imprimir_informacion(self):\n",
        "        print(f\"Nombre: {self._nombre}, Edad: {self._edad}\")\n",
        "\n",
        "\n",
        "# Ejemplo de uso de la clase Persona\n",
        "# Crear una instancia de la clase\n",
        "persona1 = Persona(\"Juan\", 25)\n",
        "\n",
        "# Acceder a los atributos mediante propiedades\n",
        "print(f\"Nombre: {persona1.nombre}\")\n",
        "print(f\"Edad: {persona1.edad}\")\n",
        "\n",
        "# Modificar la edad mediante la propiedad setter\n",
        "persona1.edad = 30\n",
        "\n",
        "# Imprimir información usando el método de la clase\n",
        "persona1.imprimir_informacion()\n"
      ]
    }
  ]
}