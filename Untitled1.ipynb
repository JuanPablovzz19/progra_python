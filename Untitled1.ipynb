{
  "metadata": {
    "language_info": {
      "codemirror_mode": {
        "name": "python",
        "version": 3
      },
      "file_extension": ".py",
      "mimetype": "text/x-python",
      "name": "python",
      "nbconvert_exporter": "python",
      "pygments_lexer": "ipython3",
      "version": "3.8"
    },
    "kernelspec": {
      "name": "python",
      "display_name": "Python (Pyodide)",
      "language": "python"
    }
  },
  "nbformat_minor": 4,
  "nbformat": 4,
  "cells": [
    {
      "cell_type": "code",
      "source": "class Persona:\n    def __init__(self, nombre, edad):\n        self._nombre = nombre  # atributo privado (convención de un guion bajo al inicio)\n        self._edad = edad      # atributo privado (convención de un guion bajo al inicio)\n\n    # Propiedad para acceder al atributo 'nombre'\n    @property\n    def nombre(self):\n        return self._nombre\n\n    # Propiedad para acceder y modificar el atributo 'edad'\n    @property\n    def edad(self):\n        return self._edad\n\n    @edad.setter\n    def edad(self, nueva_edad):\n        if nueva_edad > 0:\n            self._edad = nueva_edad\n        else:\n            print(\"La edad debe ser un número positivo.\")\n\n    # Método para imprimir información sobre la persona\n    def imprimir_informacion(self):\n        print(f\"Nombre: {self._nombre}, Edad: {self._edad}\")\n\n\n# Ejemplo de uso de la clase Persona\n# Crear una instancia de la clase\npersona1 = Persona(\"Juan\", 25)\n\n# Acceder a los atributos mediante propiedades\nprint(f\"Nombre: {persona1.nombre}\")\nprint(f\"Edad: {persona1.edad}\")\n\n# Modificar la edad mediante la propiedad setter\npersona1.edad = 30\n\n# Imprimir información usando el método de la clase\npersona1.imprimir_informacion()",
      "metadata": {
        "trusted": true
      },
      "execution_count": 1,
      "outputs": [
        {
          "name": "stdout",
          "text": "Nombre: Juan\nEdad: 25\nNombre: Juan, Edad: 30\n",
          "output_type": "stream"
        }
      ]
    },
    {
      "cell_type": "code",
      "source": "",
      "metadata": {},
      "execution_count": null,
      "outputs": []
    }
  ]
}